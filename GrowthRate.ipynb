{
 "cells": [
  {
   "cell_type": "code",
   "execution_count": 1,
   "metadata": {},
   "outputs": [],
   "source": [
    "import requests\n",
    "import pandas as pd\n",
    "import json"
   ]
  },
  {
   "cell_type": "markdown",
   "metadata": {},
   "source": [
    "### Utility function to get a JSON object response"
   ]
  },
  {
   "cell_type": "code",
   "execution_count": 2,
   "metadata": {},
   "outputs": [],
   "source": [
    "def getJsonObject(url):\n",
    "\n",
    "    headers = {'Content-Type': 'application/json'}\n",
    "    response = requests.get(url, headers=headers)\n",
    "    jsonObject = {}\n",
    "    if response.status_code == 200:\n",
    "        jsonObject = json.loads(response.content.decode('utf-8'))\n",
    "    return jsonObject"
   ]
  },
  {
   "cell_type": "markdown",
   "metadata": {},
   "source": [
    "### Function to get growth rates of a state"
   ]
  },
  {
   "cell_type": "code",
   "execution_count": 3,
   "metadata": {},
   "outputs": [],
   "source": [
    "def getGrowth(state, confirmed, dates):\n",
    "\n",
    "    growth_difference = []\n",
    "    \n",
    "    #start of first lockdown in India\n",
    "    lockdown1 = '2020-03-25'\n",
    "    #start of second lockdown in India\n",
    "    lockdown2 = '2020-04-15'\n",
    "\n",
    "    g1, g2, current_growth = 0, 0, 0\n",
    "    \n",
    "    #growth rate has been defined as\n",
    "    # (number of confirmed cases on day i) / (number of confirmed cases on day i - 1) \n",
    "\n",
    "    for i in range(1, len(confirmed)):\n",
    "        growth_difference.append(confirmed[i] / confirmed[i-1])\n",
    "        if i != len(confirmed) - 1 and dates[i + 1] == lockdown1:\n",
    "            g1 = sum(growth_difference)/len(growth_difference)\n",
    "        elif i != len(confirmed) - 1 and dates[i + 1] == lockdown2:\n",
    "            g2 = sum(growth_difference)/len(growth_difference)\n",
    "\n",
    "    current_growth = sum(growth_difference)/len(growth_difference)\n",
    "\n",
    "    df = pd.DataFrame(data=[[round(g1, 3), round(g2, 3), round(current_growth, 3), state]], columns=[\n",
    "                      'g1', 'g2', 'current', 'state'])\n",
    "    return df"
   ]
  },
  {
   "cell_type": "markdown",
   "metadata": {},
   "source": [
    "## Growth Rates for India as a whole"
   ]
  },
  {
   "cell_type": "code",
   "execution_count": 4,
   "metadata": {},
   "outputs": [
    {
     "name": "stdout",
     "output_type": "stream",
     "text": [
      "{'dailyconfirmed': '1', 'dailydeceased': '0', 'dailyrecovered': '0', 'date': '30 January ', 'totalconfirmed': '1', 'totaldeceased': '0', 'totalrecovered': '0'}\n"
     ]
    }
   ],
   "source": [
    "# The api url from which the time series data is taken for India as a whole \n",
    "url = 'https://api.covid19india.org/data.json'\n",
    "jsonObject = getJsonObject(url)\n",
    "\n",
    "time_series = jsonObject['cases_time_series']\n",
    "print(time_series[0])"
   ]
  },
  {
   "cell_type": "code",
   "execution_count": 5,
   "metadata": {},
   "outputs": [],
   "source": [
    "months = {\n",
    "    'january': '01',\n",
    "    'february': '02',\n",
    "    'march': '03',\n",
    "    'april': '04',\n",
    "    'may': '05',\n",
    "    'june': '06',\n",
    "    'july': '07',\n",
    "    'august': '08',\n",
    "    'september': '09',\n",
    "    'october': '10',\n",
    "    'november': '11',\n",
    "    'december': '12'\n",
    "}"
   ]
  },
  {
   "cell_type": "code",
   "execution_count": 6,
   "metadata": {},
   "outputs": [],
   "source": [
    "confirmed = []\n",
    "dates = []"
   ]
  },
  {
   "cell_type": "code",
   "execution_count": 7,
   "metadata": {},
   "outputs": [],
   "source": [
    "for i in time_series:\n",
    "    c = int(i['totalconfirmed'])\n",
    "    confirmed.append(c)\n",
    "    d = i['date'].strip().split(' ')\n",
    "    date = '2020-' + months[d[1].lower()] + '-' + d[0]\n",
    "    dates.append(date)"
   ]
  },
  {
   "cell_type": "code",
   "execution_count": 8,
   "metadata": {},
   "outputs": [
    {
     "name": "stdout",
     "output_type": "stream",
     "text": [
      "Growth before lockdown on 25th March : 1.173\n",
      "Growth until second lockdown on 14th April : 1.168\n",
      "Current growth : 1.145\n"
     ]
    }
   ],
   "source": [
    "df = pd.DataFrame(data=None, columns=['g1', 'g2', 'current', 'state'])\n",
    "\n",
    "df = df.append(getGrowth('India', confirmed, dates))\n",
    "print('Growth before lockdown on 25th March :', df['g1'][0])\n",
    "print('Growth until second lockdown on 14th April :', df['g2'][0])\n",
    "print('Current growth :',df['current'][0])"
   ]
  },
  {
   "cell_type": "markdown",
   "metadata": {},
   "source": [
    "## Growth Rates for individual states"
   ]
  },
  {
   "cell_type": "code",
   "execution_count": 9,
   "metadata": {},
   "outputs": [],
   "source": [
    "# The api url which is used to form a mapping between state name and state code given in the API\n",
    "url = 'https://api.covid19india.org/v2/state_district_wise.json'\n",
    "jsonObject = getJsonObject(url)"
   ]
  },
  {
   "cell_type": "code",
   "execution_count": 10,
   "metadata": {},
   "outputs": [],
   "source": [
    "state_mapping = {}\n",
    "state_truth = {}\n",
    "state_growth = {}\n",
    "\n",
    "for i in jsonObject:\n",
    "    state = i['state']\n",
    "    code = i['statecode'].lower()\n",
    "    state_mapping[code] = state\n",
    "    state_truth[code] = False\n",
    "    state_growth[state] = {\n",
    "        'dates': [],\n",
    "        'cases': []\n",
    "    }"
   ]
  },
  {
   "cell_type": "code",
   "execution_count": 11,
   "metadata": {},
   "outputs": [
    {
     "data": {
      "text/plain": [
       "{'an': '0',\n",
       " 'ap': '1',\n",
       " 'ar': '0',\n",
       " 'as': '0',\n",
       " 'br': '0',\n",
       " 'ch': '0',\n",
       " 'ct': '0',\n",
       " 'date': '14-Mar-20',\n",
       " 'dd': '0',\n",
       " 'dl': '7',\n",
       " 'dn': '0',\n",
       " 'ga': '0',\n",
       " 'gj': '0',\n",
       " 'hp': '0',\n",
       " 'hr': '14',\n",
       " 'jh': '0',\n",
       " 'jk': '2',\n",
       " 'ka': '6',\n",
       " 'kl': '19',\n",
       " 'la': '0',\n",
       " 'ld': '0',\n",
       " 'mh': '14',\n",
       " 'ml': '0',\n",
       " 'mn': '0',\n",
       " 'mp': '0',\n",
       " 'mz': '0',\n",
       " 'nl': '0',\n",
       " 'or': '0',\n",
       " 'pb': '1',\n",
       " 'py': '0',\n",
       " 'rj': '3',\n",
       " 'sk': '0',\n",
       " 'status': 'Confirmed',\n",
       " 'tg': '1',\n",
       " 'tn': '1',\n",
       " 'tr': '0',\n",
       " 'tt': '81',\n",
       " 'up': '12',\n",
       " 'ut': '0',\n",
       " 'wb': '0'}"
      ]
     },
     "execution_count": 11,
     "metadata": {},
     "output_type": "execute_result"
    }
   ],
   "source": [
    "# The api url from which the time series data is taken for each individual state\n",
    "url = 'https://api.covid19india.org/states_daily.json'\n",
    "jsonObject = getJsonObject(url)\n",
    "states_daily = jsonObject['states_daily']\n",
    "states_daily[0]"
   ]
  },
  {
   "cell_type": "markdown",
   "metadata": {},
   "source": [
    "### Utiltity function for formatting Dates"
   ]
  },
  {
   "cell_type": "code",
   "execution_count": 12,
   "metadata": {},
   "outputs": [],
   "source": [
    "def getDate(s):\n",
    "    parts = s.split('-')\n",
    "    date = '2020-' + month_abbr[parts[1]] + '-' + parts[0]\n",
    "    return date"
   ]
  },
  {
   "cell_type": "code",
   "execution_count": 13,
   "metadata": {},
   "outputs": [],
   "source": [
    "month_abbr = {\n",
    "    'Mar': '03',\n",
    "    'Apr': '04',\n",
    "    'May': '05',\n",
    "    'Jun': '06',\n",
    "}"
   ]
  },
  {
   "cell_type": "code",
   "execution_count": 14,
   "metadata": {},
   "outputs": [],
   "source": [
    "for i in states_daily:\n",
    "    if i['status'] == 'Confirmed':\n",
    "        date = getDate(i['date'])\n",
    "        del i['date']\n",
    "        del i['status']\n",
    "        del i['tt']\n",
    "        for state in i.keys():\n",
    "            try:\n",
    "                if int(i[state]) > 0 or state_truth[state]:\n",
    "                    state_truth[state] = True\n",
    "                    sf = state_mapping[state]\n",
    "                    state_growth[sf]['dates'].append(date)\n",
    "                    if len(state_growth[sf]['cases']) != 0:\n",
    "                        state_growth[sf]['cases'].append(\n",
    "                            int(i[state]) + state_growth[sf]['cases'][-1])\n",
    "                    else:\n",
    "                        state_growth[sf]['cases'].append(int(i[state]))\n",
    "            except ValueError:\n",
    "                continue\n",
    "            except KeyError:\n",
    "                continue\n",
    "    else:\n",
    "        continue"
   ]
  },
  {
   "cell_type": "code",
   "execution_count": 15,
   "metadata": {},
   "outputs": [],
   "source": [
    "#del state_growth['Dadra and Nagar Haveli and Daman and Diu']"
   ]
  },
  {
   "cell_type": "code",
   "execution_count": 16,
   "metadata": {},
   "outputs": [
    {
     "name": "stdout",
     "output_type": "stream",
     "text": [
      "Andaman and Nicobar Islands :\n",
      "\n",
      "Growth before lockdown on 25th March : 0\n",
      "Growth until second lockdown on 14th April : 1.301\n",
      "Current growth : 1.164 \n",
      "\n",
      "Andhra Pradesh :\n",
      "\n",
      "Growth before lockdown on 25th March : 1.318\n",
      "Growth until second lockdown on 14th April : 1.272\n",
      "Current growth : 1.181 \n",
      "\n",
      "Arunachal Pradesh :\n",
      "\n",
      "Growth before lockdown on 25th March : 0\n",
      "Growth until second lockdown on 14th April : 1.0\n",
      "Current growth : 1.0 \n",
      "\n",
      "Assam :\n",
      "\n",
      "Growth before lockdown on 25th March : 0\n",
      "Growth until second lockdown on 14th April : 2.129\n",
      "Current growth : 1.441 \n",
      "\n",
      "Bihar :\n",
      "\n",
      "Growth before lockdown on 25th March : 1.25\n",
      "Growth until second lockdown on 14th April : 1.18\n",
      "Current growth : 1.14 \n",
      "\n",
      "Chandigarh :\n",
      "\n",
      "Growth before lockdown on 25th March : 1.873\n",
      "Growth until second lockdown on 14th April : 1.217\n",
      "Current growth : 1.156 \n",
      "\n",
      "Chhattisgarh :\n",
      "\n",
      "Growth before lockdown on 25th March : 1.0\n",
      "Growth until second lockdown on 14th April : 1.194\n",
      "Current growth : 1.116 \n",
      "\n",
      "Delhi :\n",
      "\n",
      "Growth before lockdown on 25th March : 1.168\n",
      "Growth until second lockdown on 14th April : 1.203\n",
      "Current growth : 1.142 \n",
      "\n",
      "Dadra and Nagar Haveli and Daman and Diu :\n",
      "\n",
      "Growth before lockdown on 25th March : 0\n",
      "Growth until second lockdown on 14th April : 0\n",
      "Current growth : 1.0 \n",
      "\n",
      "Goa :\n",
      "\n",
      "Growth before lockdown on 25th March : 0\n",
      "Growth until second lockdown on 14th April : 1.052\n",
      "Current growth : 1.024 \n",
      "\n",
      "Gujarat :\n",
      "\n",
      "Growth before lockdown on 25th March : 1.917\n",
      "Growth until second lockdown on 14th April : 1.302\n",
      "Current growth : 1.212 \n",
      "\n",
      "Himachal Pradesh :\n",
      "\n",
      "Growth before lockdown on 25th March : 1.125\n",
      "Growth until second lockdown on 14th April : 1.15\n",
      "Current growth : 1.085 \n",
      "\n",
      "Haryana :\n",
      "\n",
      "Growth before lockdown on 25th March : 1.083\n",
      "Growth until second lockdown on 14th April : 1.094\n",
      "Current growth : 1.076 \n",
      "\n",
      "Jharkhand :\n",
      "\n",
      "Growth before lockdown on 25th March : 0\n",
      "Growth until second lockdown on 14th April : 1.349\n",
      "Current growth : 1.178 \n",
      "\n",
      "Jammu and Kashmir :\n",
      "\n",
      "Growth before lockdown on 25th March : 1.133\n",
      "Growth until second lockdown on 14th April : 1.188\n",
      "Current growth : 1.128 \n",
      "\n",
      "Karnataka :\n",
      "\n",
      "Growth before lockdown on 25th March : 1.222\n",
      "Growth until second lockdown on 14th April : 1.135\n",
      "Current growth : 1.097 \n",
      "\n",
      "Kerala :\n",
      "\n",
      "Growth before lockdown on 25th March : 1.201\n",
      "Growth until second lockdown on 14th April : 1.108\n",
      "Current growth : 1.067 \n",
      "\n",
      "Ladakh :\n",
      "\n",
      "Growth before lockdown on 25th March : 1.092\n",
      "Growth until second lockdown on 14th April : 1.031\n",
      "Current growth : 1.039 \n",
      "\n",
      "Maharashtra :\n",
      "\n",
      "Growth before lockdown on 25th March : 1.26\n",
      "Growth until second lockdown on 14th April : 1.198\n",
      "Current growth : 1.15 \n",
      "\n",
      "Meghalaya :\n",
      "\n",
      "Growth before lockdown on 25th March : 0\n",
      "Growth until second lockdown on 14th April : 1.0\n",
      "Current growth : 1.275 \n",
      "\n",
      "Manipur :\n",
      "\n",
      "Growth before lockdown on 25th March : 0\n",
      "Growth until second lockdown on 14th April : 1.048\n",
      "Current growth : 1.023 \n",
      "\n",
      "Madhya Pradesh :\n",
      "\n",
      "Growth before lockdown on 25th March : 1.167\n",
      "Growth until second lockdown on 14th April : 1.251\n",
      "Current growth : 1.163 \n",
      "\n",
      "Mizoram :\n",
      "\n",
      "Growth before lockdown on 25th March : 0\n",
      "Growth until second lockdown on 14th April : 1.0\n",
      "Current growth : 1.0 \n",
      "\n",
      "Odisha :\n",
      "\n",
      "Growth before lockdown on 25th March : 1.125\n",
      "Growth until second lockdown on 14th April : 1.222\n",
      "Current growth : 1.15 \n",
      "\n",
      "Punjab :\n",
      "\n",
      "Growth before lockdown on 25th March : 1.58\n",
      "Growth until second lockdown on 14th April : 1.251\n",
      "Current growth : 1.189 \n",
      "\n",
      "Puducherry :\n",
      "\n",
      "Growth before lockdown on 25th March : 1.0\n",
      "Growth until second lockdown on 14th April : 1.106\n",
      "Current growth : 1.064 \n",
      "\n",
      "Rajasthan :\n",
      "\n",
      "Growth before lockdown on 25th March : 1.298\n",
      "Growth until second lockdown on 14th April : 1.219\n",
      "Current growth : 1.149 \n",
      "\n",
      "Telangana :\n",
      "\n",
      "Growth before lockdown on 25th March : 1.534\n",
      "Growth until second lockdown on 14th April : 1.274\n",
      "Current growth : 1.168 \n",
      "\n",
      "Tamil Nadu :\n",
      "\n",
      "Growth before lockdown on 25th March : 1.383\n",
      "Growth until second lockdown on 14th April : 1.286\n",
      "Current growth : 1.193 \n",
      "\n",
      "Tripura :\n",
      "\n",
      "Growth before lockdown on 25th March : 0\n",
      "Growth until second lockdown on 14th April : 1.125\n",
      "Current growth : 1.231 \n",
      "\n",
      "Uttar Pradesh :\n",
      "\n",
      "Growth before lockdown on 25th March : 1.115\n",
      "Growth until second lockdown on 14th April : 1.141\n",
      "Current growth : 1.111 \n",
      "\n",
      "Uttarakhand :\n",
      "\n",
      "Growth before lockdown on 25th March : 1.229\n",
      "Growth until second lockdown on 14th April : 1.152\n",
      "Current growth : 1.095 \n",
      "\n",
      "West Bengal :\n",
      "\n",
      "Growth before lockdown on 25th March : 1.434\n",
      "Growth until second lockdown on 14th April : 1.236\n",
      "Current growth : 1.173 \n",
      "\n"
     ]
    }
   ],
   "source": [
    "for state in state_growth.keys():\n",
    "    print(state, ':\\n')\n",
    "    confirmed = state_growth[state]['cases']\n",
    "    dates = state_growth[state]['dates']\n",
    "    df = getGrowth(state,confirmed, dates)\n",
    "    print('Growth before lockdown on 25th March :', df['g1'][0])\n",
    "    print('Growth until second lockdown on 14th April :', df['g2'][0])\n",
    "    print('Current growth :',df['current'][0],'\\n')"
   ]
  }
 ],
 "metadata": {
  "kernelspec": {
   "display_name": "Python 3",
   "language": "python",
   "name": "python3"
  },
  "language_info": {
   "codemirror_mode": {
    "name": "ipython",
    "version": 3
   },
   "file_extension": ".py",
   "mimetype": "text/x-python",
   "name": "python",
   "nbconvert_exporter": "python",
   "pygments_lexer": "ipython3",
   "version": "3.8.2"
  },
  "varInspector": {
   "cols": {
    "lenName": 16,
    "lenType": 16,
    "lenVar": 40
   },
   "kernels_config": {
    "python": {
     "delete_cmd_postfix": "",
     "delete_cmd_prefix": "del ",
     "library": "var_list.py",
     "varRefreshCmd": "print(var_dic_list())"
    },
    "r": {
     "delete_cmd_postfix": ") ",
     "delete_cmd_prefix": "rm(",
     "library": "var_list.r",
     "varRefreshCmd": "cat(var_dic_list()) "
    }
   },
   "types_to_exclude": [
    "module",
    "function",
    "builtin_function_or_method",
    "instance",
    "_Feature"
   ],
   "window_display": false
  }
 },
 "nbformat": 4,
 "nbformat_minor": 2
}
